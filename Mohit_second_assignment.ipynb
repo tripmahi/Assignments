{
 "cells": [
  {
   "cell_type": "markdown",
   "metadata": {},
   "source": [
    "# Assignment-2"
   ]
  },
  {
   "cell_type": "markdown",
   "metadata": {},
   "source": [
    "## Task-1(i):\n",
    "> <b/>Python Program to implement your own myreduce()"
   ]
  },
  {
   "cell_type": "code",
   "execution_count": 1,
   "metadata": {},
   "outputs": [],
   "source": [
    "# Reduce will produce a single result\n",
    "def myreduce(func, seq):\n",
    "\n",
    "# Getting first item in sequence and assign to result\n",
    "  result = seq[0]\n",
    "# iterate over remaining items in sequence and apply reduction function \n",
    "  for val in seq[1:]:\n",
    "   result = func(result, val)\n",
    "\n",
    "  return result"
   ]
  },
  {
   "cell_type": "code",
   "execution_count": 3,
   "metadata": {},
   "outputs": [
    {
     "name": "stdout",
     "output_type": "stream",
     "text": [
      "Multiplication on list [6,5,7] using custom reduce function 210\n"
     ]
    }
   ],
   "source": [
    "# test myreduce function\n",
    "def mul(x,y): return x * y\n",
    "\n",
    "print (\"Multiplication on list [6,5,7] using custom reduce function \"   + str(myreduce(mul, [6,5,7])) )"
   ]
  },
  {
   "cell_type": "markdown",
   "metadata": {},
   "source": [
    "# Task-1(ii):\n",
    "> <b/>Python program to implement your own myfilter() function"
   ]
  },
  {
   "cell_type": "code",
   "execution_count": 7,
   "metadata": {},
   "outputs": [],
   "source": [
    "# Custom filter function \n",
    "def myfilter(func, seq):\n",
    "\n",
    " # Initialize empty list\n",
    " result = []\n",
    " # iterate over sequence of items in sequence and apply filter function\n",
    " for item in seq:\n",
    "  if func(item):\n",
    "   result.append(item)\n",
    "\n",
    " # return final output\n",
    " return result"
   ]
  },
  {
   "cell_type": "code",
   "execution_count": 8,
   "metadata": {},
   "outputs": [
    {
     "name": "stdout",
     "output_type": "stream",
     "text": [
      "Filter only Negative Integers on list [1,-2,3,4,-5,8,-9] using custom filter function[-2, -5, -9]\n"
     ]
    }
   ],
   "source": [
    "def isnegative(x):\n",
    " if (x < 0): \n",
    "  return True \n",
    " else: \n",
    "  return False\n",
    "\n",
    "print (\"Filter only Negative Integers on list [1,-2,3,4,-5,8,-9] using custom filter function\"  + str(myfilter(isnegative, [1,-2,3,4,-5,8,-9])))"
   ]
  },
  {
   "cell_type": "markdown",
   "metadata": {},
   "source": [
    "# Task-1(2):\n",
    "<b/>Write List comprehensions to produce the following Lists<br/>\n",
    "['A', 'C', 'A', 'D', 'G', 'I', ’L’, ‘ D’]<br/>\n",
    "['x', 'xx', 'xxx', 'xxxx', 'y', 'yy', 'yyy', 'yyyy', 'z', 'zz', 'zzz', 'zzzz']<br/>\n",
    "['x', 'y', 'z', 'xx', 'yy', 'zz', 'xx', 'yy', 'zz', 'xxxx', 'yyyy', 'zzzz']<br/>\n",
    "[[2], [3], [4], [3], [4], [5], [4], [5], [6]]<br/>\n",
    "[[2, 3, 4, 5], [3, 4, 5, 6], [4, 5, 6, 7], [5, 6, 7, 8]]<br/>\n",
    "[(1, 1), (2, 1), (3, 1), (1, 2), (2, 2), (3, 2), (1, 3), (2, 3), (3, 3)]<br/>"
   ]
  },
  {
   "cell_type": "code",
   "execution_count": 9,
   "metadata": {},
   "outputs": [
    {
     "name": "stdout",
     "output_type": "stream",
     "text": [
      "ACADGILD => ['A', 'C', 'A', 'D', 'G', 'I', 'L', 'D']\n",
      "['x','y','z'] => ['x', 'xx', 'xxx', 'xxxx', 'y', 'yy', 'yyy', 'yyyy', 'z', 'zz', 'zzz', 'zzzz']\n",
      "['x','y','z'] => ['x', 'y', 'z', 'xx', 'yy', 'zz', 'xxx', 'yyy', 'zzz', 'xxxx', 'yyyy', 'zzzz']\n",
      "[2,3,4] =>[[2], [3], [4], [3], [4], [5], [4], [5], [6]]\n",
      "[2,3,4,5] =>[[2, 3, 4, 5], [3, 4, 5, 6], [4, 5, 6, 7], [5, 6, 7, 8]]\n",
      "[1,2,3] =>[(1, 1), (2, 1), (3, 1), (1, 2), (2, 2), (3, 2), (1, 3), (2, 3), (3, 3)]\n"
     ]
    }
   ],
   "source": [
    "#########\n",
    "word = \"ACADGILD\"\n",
    "alphabet_list = [ alphabet for alphabet in word ]\n",
    "print (\"ACADGILD => \" + str(alphabet_list))\n",
    "\n",
    "#########\n",
    "input_list = ['x','y','z']\n",
    "result = [ item*num for item in input_list for num in range(1,5)  ]\n",
    "print(\"['x','y','z'] => \" +   str(result))\n",
    "\n",
    "#########\n",
    "input_list = ['x','y','z']\n",
    "result = [ item*num for num in range(1,5) for item in input_list  ]\n",
    "print(\"['x','y','z'] => \" +   str(result))\n",
    "\n",
    "#########\n",
    "input_list = [2,3,4]\n",
    "result = [ [item+num] for item in input_list for num in range(0,3)]\n",
    "print(\"[2,3,4] =>\" +  str(result))\n",
    "\n",
    "#########\n",
    "input_list = [2,3,4,5]\n",
    "result = [ [item+num for item in input_list] for num in range(0,4)  ]\n",
    "print(\"[2,3,4,5] =>\" +  str(result))\n",
    "\n",
    "#########\n",
    "input_list=[1,2,3]\n",
    "result = [ (b,a) for a in input_list for b in input_list]\n",
    "print(\"[1,2,3] =>\" +  str(result))\n",
    "\n",
    "#########"
   ]
  },
  {
   "cell_type": "markdown",
   "metadata": {},
   "source": [
    "## Task-1(3): Implement a function longestWord() that takes a list of words and returns the longest one\n",
    "\n"
   ]
  },
  {
   "cell_type": "code",
   "execution_count": 10,
   "metadata": {},
   "outputs": [
    {
     "name": "stdout",
     "output_type": "stream",
     "text": [
      "INEURON\n"
     ]
    }
   ],
   "source": [
    "def longest_word(words_list):\n",
    "    word_len = []\n",
    "    for n in words_list:\n",
    "        word_len.append((len(n), n))\n",
    "    word_len.sort()\n",
    "    return word_len[-1][1]\n",
    "\n",
    "print(longest_word([\"I\", \"Love\", \"INEURON\"]))"
   ]
  },
  {
   "cell_type": "markdown",
   "metadata": {},
   "source": [
    "## Task-2(1.1): Write a Python Program(with class concepts) to find the area of the triangle using the below formula. <br/>\n",
    ">area = (s*(s-a)*(s-b)*(s-c)) ** 0.5<br/>\n",
    "Function to take the length of the sides of triangle from user should be defined in the parent\n",
    "class and function to calculate the area should be defined in subclass."
   ]
  },
  {
   "cell_type": "code",
   "execution_count": 52,
   "metadata": {},
   "outputs": [],
   "source": [
    "class Triangle:\n",
    "    def __init__(self,a,b,c):\n",
    "        self.a = float(input(\"Enter the value of a = \"))\n",
    "        self.b = float(input(\"Enter the value of b = \"))\n",
    "        self.c = float(input(\"Enter the value of c = \"))\n",
    "        \n",
    "class Triangle_area(Triangle):\n",
    "    def __init__(self,a,b,c):\n",
    "        Triangle.__init__(self, a,b,c)\n",
    "    \n",
    "    def area(self):\n",
    "        s=(self.a + self.b + self.c)/2\n",
    "        return \"The area of Triangle by heron's formula is\" + \" \"+str(((s*(s-self.a)*(s-self.b)*(s-self.c))**0.5))\n"
   ]
  },
  {
   "cell_type": "code",
   "execution_count": 53,
   "metadata": {},
   "outputs": [
    {
     "name": "stdout",
     "output_type": "stream",
     "text": [
      "Enter the value of a = 3\n",
      "Enter the value of b = 4\n",
      "Enter the value of c = 5\n"
     ]
    },
    {
     "data": {
      "text/plain": [
       "\"The area of Triangle by heron's formula is 6.0\""
      ]
     },
     "execution_count": 53,
     "metadata": {},
     "output_type": "execute_result"
    }
   ],
   "source": [
    "triang1=Triangle_area(a,b,c)\n",
    "triang1.area()"
   ]
  },
  {
   "cell_type": "code",
   "execution_count": 54,
   "metadata": {},
   "outputs": [
    {
     "name": "stdout",
     "output_type": "stream",
     "text": [
      "Enter the value of a = 4\n",
      "Enter the value of b = 5\n",
      "Enter the value of c = 6\n"
     ]
    },
    {
     "data": {
      "text/plain": [
       "\"The area of Triangle by heron's formula is 9.921567416492215\""
      ]
     },
     "execution_count": 54,
     "metadata": {},
     "output_type": "execute_result"
    }
   ],
   "source": [
    "triang2=Triangle_area(a,b,c)\n",
    "triang2.area()"
   ]
  },
  {
   "cell_type": "markdown",
   "metadata": {},
   "source": [
    "## Task-2(1.2):\n",
    "> <b/>Write a function filter_long_words() that takes a list of words and an integer n and returns the list\n",
    "of words that are longer than n"
   ]
  },
  {
   "cell_type": "code",
   "execution_count": 21,
   "metadata": {},
   "outputs": [],
   "source": [
    "#Using Lambda function to create function for getting word greater than n digits\n",
    "def filter_long_words(string,number):\n",
    "    return list(filter(lambda word:len(word)>number, string))"
   ]
  },
  {
   "cell_type": "code",
   "execution_count": 23,
   "metadata": {},
   "outputs": [
    {
     "name": "stdout",
     "output_type": "stream",
     "text": [
      "Please input the list of words: My name is Mohit Tripathi, I love Ineuron\n",
      "Please input an integer: 4\n",
      "The list of words greater than the integer is ['Mohit', 'Tripathi,', 'Ineuron']\n"
     ]
    }
   ],
   "source": [
    "words = input(\"Please input the list of words: \").split()\n",
    "integer = eval(input(\"Please input an integer: \"))\n",
    "words1 = filter_long_words(words,integer)\n",
    "print(\"The list of words greater than the integer is\", words1)"
   ]
  },
  {
   "cell_type": "markdown",
   "metadata": {},
   "source": [
    "## Task-2(2.1):\n",
    "> <b/>Write a Python program using function concept that maps list of words into a list of integers\n",
    "representing the lengths of the corresponding words"
   ]
  },
  {
   "cell_type": "code",
   "execution_count": 25,
   "metadata": {},
   "outputs": [
    {
     "name": "stdout",
     "output_type": "stream",
     "text": [
      "word lengths in array => [2, 4, 2, 5, 8]\n"
     ]
    }
   ],
   "source": [
    "wordlist = [\"My\", \"Name\", \"is\", \"Mohit\", \"Tripathi\"]\n",
    "\n",
    "def wordlength(wordlist):\n",
    " return list(map(lambda x: len(x), wordlist))\n",
    "\n",
    "print (\"word lengths in array => \" + str(wordlength(wordlist)))"
   ]
  },
  {
   "cell_type": "markdown",
   "metadata": {},
   "source": [
    "## Task-2(2.2):\n",
    "> <b/>Write a Python function which takes a character (i.e. a string of length 1) and returns True if it is\n",
    "a vowel, False otherwise."
   ]
  },
  {
   "cell_type": "code",
   "execution_count": 26,
   "metadata": {},
   "outputs": [],
   "source": [
    "def is_vowel(char):\n",
    "    all_vowels = 'aeiou'\n",
    "    return char in all_vowels"
   ]
  },
  {
   "cell_type": "code",
   "execution_count": 27,
   "metadata": {},
   "outputs": [
    {
     "name": "stdout",
     "output_type": "stream",
     "text": [
      "False\n",
      "True\n"
     ]
    }
   ],
   "source": [
    "print(is_vowel('c'))\n",
    "print(is_vowel('e'))"
   ]
  }
 ],
 "metadata": {
  "kernelspec": {
   "display_name": "Python 3",
   "language": "python",
   "name": "python3"
  },
  "language_info": {
   "codemirror_mode": {
    "name": "ipython",
    "version": 3
   },
   "file_extension": ".py",
   "mimetype": "text/x-python",
   "name": "python",
   "nbconvert_exporter": "python",
   "pygments_lexer": "ipython3",
   "version": "3.7.4"
  }
 },
 "nbformat": 4,
 "nbformat_minor": 4
}
